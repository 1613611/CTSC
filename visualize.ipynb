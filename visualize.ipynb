{
 "cells": [
  {
   "cell_type": "code",
   "execution_count": 1,
   "metadata": {},
   "outputs": [],
   "source": [
    "import numpy as np\n",
    "import pandas as pd\n",
    "import matplotlib.pyplot as plt\n",
    "from pylab import rcParams"
   ]
  },
  {
   "cell_type": "code",
   "execution_count": 2,
   "metadata": {},
   "outputs": [],
   "source": [
    "#traffic light\n",
    "log = pd.read_csv('./log/4x1-one-way/light-traffic/CentralizedRL/traffic-light.txt')"
   ]
  },
  {
   "cell_type": "code",
   "execution_count": 3,
   "metadata": {},
   "outputs": [
    {
     "data": {
      "image/png": "[encoded data removed]",
      "text/plain": [
       "<Figure size 1440x360 with 1 Axes>"
      ]
     },
     "metadata": {
      "needs_background": "light"
     },
     "output_type": "display_data"
    }
   ],
   "source": [
    "rcParams['figure.figsize'] = 20, 5\n",
    "\n",
    "length = [1860, 1860]\n",
    "step_size = 5\n",
    "\n",
    "y = log['node1'].to_numpy()\n",
    "red = []\n",
    "yellow = []\n",
    "green = []\n",
    "for idx, val in enumerate(y[length[0]:length[1]]):\n",
    "    if val == 2:\n",
    "        for i in range(step_size):\n",
    "            red.append(idx*5 + i)\n",
    "    elif val == 0:\n",
    "        for i in range(step_size):\n",
    "            green.append(idx*5 + i)\n",
    "    else:\n",
    "        for i in range(step_size):\n",
    "            yellow.append(idx*5 + i)\n",
    "plt.plot(red, np.ones_like(red), 'g.')\n",
    "plt.plot(yellow, np.ones_like(yellow), 'y.')\n",
    "plt.plot(green, np.ones_like(green), 'r.')\n",
    "\n",
    "y = log['node2'].to_numpy()\n",
    "red = []\n",
    "yellow = []\n",
    "green = []\n",
    "for idx, val in enumerate(y[length[0]:length[1]]):\n",
    "    if val == 2:\n",
    "        for i in range(step_size):\n",
    "            red.append(idx*5 + i)\n",
    "    elif val == 0:\n",
    "        for i in range(step_size):\n",
    "            green.append(idx*5 + i)\n",
    "    else:\n",
    "        for i in range(step_size):\n",
    "            yellow.append(idx*5 + i)\n",
    "plt.plot(red, 2*np.ones_like(red), 'g.')\n",
    "plt.plot(yellow, 2*np.ones_like(yellow), 'y.')\n",
    "plt.plot(green, 2*np.ones_like(green), 'r.')\n",
    "\n",
    "y = log['node3'].to_numpy()\n",
    "red = []\n",
    "yellow = []\n",
    "green = []\n",
    "for idx, val in enumerate(y[length[0]:length[1]]):\n",
    "    if val == 2:\n",
    "        for i in range(step_size):\n",
    "            red.append(idx*5 + i)\n",
    "    elif val == 0:\n",
    "        for i in range(step_size):\n",
    "            green.append(idx*5 + i)\n",
    "    else:\n",
    "        for i in range(step_size):\n",
    "            yellow.append(idx*5 + i)\n",
    "plt.plot(red, 3*np.ones_like(red), 'g.')\n",
    "plt.plot(yellow, 3*np.ones_like(yellow), 'y.')\n",
    "plt.plot(green, 3*np.ones_like(green), 'r.')\n",
    "\n",
    "y = log['node4'].to_numpy()\n",
    "red = []\n",
    "yellow = []\n",
    "green = []\n",
    "for idx, val in enumerate(y[length[0]:length[1]]):\n",
    "    if val == 2:\n",
    "        for i in range(step_size):\n",
    "            red.append(idx*5 + i)\n",
    "    elif val == 0:\n",
    "        for i in range(step_size):\n",
    "            green.append(idx*5 + i)\n",
    "    else:\n",
    "        for i in range(step_size):\n",
    "            yellow.append(idx*5 + i)\n",
    "plt.plot(red, 4*np.ones_like(red), 'g.')\n",
    "plt.plot(yellow, 4*np.ones_like(yellow), 'y.')\n",
    "plt.plot(green, 4*np.ones_like(green), 'r.')\n",
    "\n",
    "plt.ylim(0)\n",
    "plt.show()"
   ]
  },
  {
   "cell_type": "code",
   "execution_count": 26,
   "metadata": {
    "scrolled": true
   },
   "outputs": [
    {
     "name": "stdout",
     "output_type": "stream",
     "text": [
      "155.0887029288703\n",
      "73.93864229765013\n",
      "147.25592237903226\n"
     ]
    }
   ],
   "source": [
    "log = pd.read_csv('./log/4x2-intersections/heavy-traffic/FT/vehicle.txt')\n",
    "veh_arterial_road = log[log['RouteID'].isin(['route1A5A', 'route5B1B'])]\n",
    "veh_collector_road = log[~log['RouteID'].isin(['route1A5A', 'route5B1B'])]\n",
    "print(np.mean(veh_arterial_road['TravelTime']))\n",
    "print(np.mean(veh_collector_road['TravelTime']))\n",
    "print(np.mean(log['TravelTime']))"
   ]
  },
  {
   "cell_type": "code",
   "execution_count": 27,
   "metadata": {},
   "outputs": [
    {
     "name": "stdout",
     "output_type": "stream",
     "text": [
      "109.71018131101813\n",
      "69.23107049608355\n",
      "105.8030493951613\n"
     ]
    }
   ],
   "source": [
    "# travel time\n",
    "log = pd.read_csv('./FT_OFFSET/log/4x2-intersections/heavy-traffic/FT_OFFSET/vehicle.txt')\n",
    "veh_arterial_road = log[log['RouteID'].isin(['route1A5A', 'route5B1B'])]\n",
    "veh_collector_road = log[~log['RouteID'].isin(['route1A5A', 'route5B1B'])]\n",
    "print(np.mean(veh_arterial_road['TravelTime']))\n",
    "print(np.mean(veh_collector_road['TravelTime']))\n",
    "print(np.mean(log['TravelTime']))"
   ]
  },
  {
   "cell_type": "code",
   "execution_count": 28,
   "metadata": {},
   "outputs": [
    {
     "name": "stdout",
     "output_type": "stream",
     "text": [
      "76.89511754068717\n",
      "779.4647519582245\n",
      "162.37293519695044\n"
     ]
    }
   ],
   "source": [
    "# travel time\n",
    "log = pd.read_csv('./log/4x2-intersections/heavy-traffic/SOTL/vehicle.txt')\n",
    "veh_arterial_road = log[log['RouteID'].isin(['route1A5A', 'route5B1B'])]\n",
    "veh_collector_road = log[~log['RouteID'].isin(['route1A5A', 'route5B1B'])]\n",
    "print(np.mean(veh_arterial_road['TravelTime']))\n",
    "print(np.mean(veh_collector_road['TravelTime']))\n",
    "print(np.mean(log['TravelTime']))"
   ]
  },
  {
   "cell_type": "code",
   "execution_count": 29,
   "metadata": {},
   "outputs": [
    {
     "name": "stdout",
     "output_type": "stream",
     "text": [
      "89.0070588235294\n",
      "62.9556135770235\n",
      "85.8350023843586\n"
     ]
    }
   ],
   "source": [
    "# travel time\n",
    "log = pd.read_csv('./log/4x2-intersections/heavy-traffic/MaxPressure/vehicle.txt')\n",
    "veh_arterial_road = log[log['RouteID'].isin(['route1A5A', 'route5B1B'])]\n",
    "veh_collector_road = log[~log['RouteID'].isin(['route1A5A', 'route5B1B'])]\n",
    "print(np.mean(veh_arterial_road['TravelTime']))\n",
    "print(np.mean(veh_collector_road['TravelTime']))\n",
    "print(np.mean(log['TravelTime']))"
   ]
  },
  {
   "cell_type": "code",
   "execution_count": 33,
   "metadata": {},
   "outputs": [
    {
     "name": "stdout",
     "output_type": "stream",
     "text": [
      "77.38684648069463\n",
      "67.12532637075718\n",
      "76.11474348600098\n"
     ]
    }
   ],
   "source": [
    "# travel time\n",
    "log = pd.read_csv('./log/4x2-intersections/heavy-traffic/CentralizedRL/vehicle.txt')\n",
    "veh_arterial_road = log[log['RouteID'].isin(['route1A5A', 'route5B1B'])]\n",
    "veh_collector_road = log[~log['RouteID'].isin(['route1A5A', 'route5B1B'])]\n",
    "print(np.mean(veh_arterial_road['TravelTime']))\n",
    "print(np.mean(veh_collector_road['TravelTime']))\n",
    "print(np.mean(log['TravelTime']))"
   ]
  },
  {
   "cell_type": "code",
   "execution_count": null,
   "metadata": {},
   "outputs": [],
   "source": []
  }
 ],
 "metadata": {
  "kernelspec": {
   "display_name": "Python 3",
   "language": "python",
   "name": "python3"
  },
  "language_info": {
   "codemirror_mode": {
    "name": "ipython",
    "version": 3
   },
   "file_extension": ".py",
   "mimetype": "text/x-python",
   "name": "python",
   "nbconvert_exporter": "python",
   "pygments_lexer": "ipython3",
   "version": "3.7.3"
  }
 },
 "nbformat": 4,
 "nbformat_minor": 4
}
