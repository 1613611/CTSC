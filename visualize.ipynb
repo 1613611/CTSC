{
 "cells": [
  {
   "cell_type": "code",
   "execution_count": 1,
   "metadata": {},
   "outputs": [],
   "source": [
    "import numpy as np\n",
    "import pandas as pd\n",
    "import matplotlib.pyplot as plt\n",
    "from pylab import rcParams"
   ]
  },
  {
   "cell_type": "code",
   "execution_count": 2,
   "metadata": {},
   "outputs": [],
   "source": [
    "#traffic light\n",
    "log = pd.read_csv('./log/4-arterial-intersections/light-traffic/CentralizedRL/traffic-light.txt')"
   ]
  },
  {
   "cell_type": "code",
   "execution_count": 3,
   "metadata": {},
   "outputs": [
    {
     "data": {
      "text/html": [
       "<div>\n",
       "<style scoped>\n",
       "    .dataframe tbody tr th:only-of-type {\n",
       "        vertical-align: middle;\n",
       "    }\n",
       "\n",
       "    .dataframe tbody tr th {\n",
       "        vertical-align: top;\n",
       "    }\n",
       "\n",
       "    .dataframe thead th {\n",
       "        text-align: right;\n",
       "    }\n",
       "</style>\n",
       "<table border=\"1\" class=\"dataframe\">\n",
       "  <thead>\n",
       "    <tr style=\"text-align: right;\">\n",
       "      <th></th>\n",
       "      <th>step</th>\n",
       "      <th>node1</th>\n",
       "      <th>node2</th>\n",
       "      <th>node3</th>\n",
       "      <th>node4</th>\n",
       "    </tr>\n",
       "  </thead>\n",
       "  <tbody>\n",
       "    <tr>\n",
       "      <th>0</th>\n",
       "      <td>0</td>\n",
       "      <td>1</td>\n",
       "      <td>1</td>\n",
       "      <td>1.0</td>\n",
       "      <td>1.0</td>\n",
       "    </tr>\n",
       "    <tr>\n",
       "      <th>1</th>\n",
       "      <td>1</td>\n",
       "      <td>1</td>\n",
       "      <td>1</td>\n",
       "      <td>1.0</td>\n",
       "      <td>1.0</td>\n",
       "    </tr>\n",
       "    <tr>\n",
       "      <th>2</th>\n",
       "      <td>2</td>\n",
       "      <td>1</td>\n",
       "      <td>1</td>\n",
       "      <td>1.0</td>\n",
       "      <td>1.0</td>\n",
       "    </tr>\n",
       "    <tr>\n",
       "      <th>3</th>\n",
       "      <td>3</td>\n",
       "      <td>2</td>\n",
       "      <td>2</td>\n",
       "      <td>2.0</td>\n",
       "      <td>2.0</td>\n",
       "    </tr>\n",
       "    <tr>\n",
       "      <th>4</th>\n",
       "      <td>4</td>\n",
       "      <td>2</td>\n",
       "      <td>2</td>\n",
       "      <td>2.0</td>\n",
       "      <td>2.0</td>\n",
       "    </tr>\n",
       "  </tbody>\n",
       "</table>\n",
       "</div>"
      ],
      "text/plain": [
       "   step  node1  node2  node3  node4\n",
       "0     0      1      1    1.0    1.0\n",
       "1     1      1      1    1.0    1.0\n",
       "2     2      1      1    1.0    1.0\n",
       "3     3      2      2    2.0    2.0\n",
       "4     4      2      2    2.0    2.0"
      ]
     },
     "execution_count": 3,
     "metadata": {},
     "output_type": "execute_result"
    }
   ],
   "source": [
    "log.head()"
   ]
  },
  {
   "cell_type": "code",
   "execution_count": 5,
   "metadata": {},
   "outputs": [
    {
     "data": {
      "image/png": "[encoded data removed]",
      "text/plain": [
       "<Figure size 720x360 with 1 Axes>"
      ]
     },
     "metadata": {
      "needs_background": "light"
     },
     "output_type": "display_data"
    }
   ],
   "source": [
    "rcParams['figure.figsize'] = 10, 5\n",
    "\n",
    "length = [800, 1000]\n",
    "\n",
    "y = log['node1'].to_numpy()\n",
    "red = []\n",
    "yellow = []\n",
    "green = []\n",
    "for idx, val in enumerate(y[length[0]:length[1]]):\n",
    "    if val == 2:\n",
    "        red.append(idx)\n",
    "    elif val == 0:\n",
    "        green.append(idx)\n",
    "    else:\n",
    "        yellow.append(idx)\n",
    "plt.plot(red, np.ones_like(red), 'r.')\n",
    "plt.plot(yellow, np.ones_like(yellow), 'y.')\n",
    "plt.plot(green, np.ones_like(green), 'g.')\n",
    "\n",
    "y = log['node2'].to_numpy()\n",
    "red = []\n",
    "yellow = []\n",
    "green = []\n",
    "for idx, val in enumerate(y[length[0]:length[1]]):\n",
    "    if val == 2:\n",
    "        red.append(idx)\n",
    "    elif val == 0:\n",
    "        green.append(idx)\n",
    "    else:\n",
    "        yellow.append(idx)\n",
    "plt.plot(red, 2*np.ones_like(red), 'r.')\n",
    "plt.plot(yellow, 2*np.ones_like(yellow), 'y.')\n",
    "plt.plot(green, 2*np.ones_like(green), 'g.')\n",
    "\n",
    "y = log['node3'].to_numpy()\n",
    "red = []\n",
    "yellow = []\n",
    "green = []\n",
    "for idx, val in enumerate(y[length[0]:length[1]]):\n",
    "    if val == 2:\n",
    "        red.append(idx)\n",
    "    elif val == 0:\n",
    "        green.append(idx)\n",
    "    else:\n",
    "        yellow.append(idx)\n",
    "plt.plot(red, 3*np.ones_like(red), 'r.')\n",
    "plt.plot(yellow, 3*np.ones_like(yellow), 'y.')\n",
    "plt.plot(green, 3*np.ones_like(green), 'g.')\n",
    "\n",
    "y = log['node4'].to_numpy()\n",
    "red = []\n",
    "yellow = []\n",
    "green = []\n",
    "for idx, val in enumerate(y[length[0]:length[1]]):\n",
    "    if val == 2:\n",
    "        red.append(idx)\n",
    "    elif val == 0:\n",
    "        green.append(idx)\n",
    "    else:\n",
    "        yellow.append(idx)\n",
    "plt.plot(red, 4*np.ones_like(red), 'r.')\n",
    "plt.plot(yellow, 4*np.ones_like(yellow), 'y.')\n",
    "plt.plot(green, 4*np.ones_like(green), 'g.')\n",
    "\n",
    "plt.ylim(0)\n",
    "plt.show()"
   ]
  },
  {
   "cell_type": "code",
   "execution_count": null,
   "metadata": {},
   "outputs": [],
   "source": []
  },
  {
   "cell_type": "code",
   "execution_count": null,
   "metadata": {},
   "outputs": [],
   "source": []
  }
 ],
 "metadata": {
  "kernelspec": {
   "display_name": "Python 3",
   "language": "python",
   "name": "python3"
  },
  "language_info": {
   "codemirror_mode": {
    "name": "ipython",
    "version": 3
   },
   "file_extension": ".py",
   "mimetype": "text/x-python",
   "name": "python",
   "nbconvert_exporter": "python",
   "pygments_lexer": "ipython3",
   "version": "3.7.3"
  }
 },
 "nbformat": 4,
 "nbformat_minor": 4
}
